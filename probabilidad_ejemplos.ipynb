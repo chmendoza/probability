{
 "cells": [
  {
   "cell_type": "markdown",
   "metadata": {},
   "source": [
    "# Probablemente Python\n",
    "\n",
    "En este notebook vamos a revisar a través de ejemplos el uso de Python en la solución de algunos problemas de probabilidad."
   ]
  },
  {
   "cell_type": "code",
   "execution_count": 1,
   "metadata": {
    "collapsed": true
   },
   "outputs": [],
   "source": [
    "import numpy as np\n",
    "import scipy.special\n",
    "import scipy.stats\n",
    "import matplotlib.pyplot as plt\n",
    "%matplotlib inline"
   ]
  },
  {
   "cell_type": "markdown",
   "metadata": {},
   "source": [
    "## Cuenta conmigo\n",
    "\n",
    "Empezemos con ejemplos que involucran el uso de técnicas de conteo.\n",
    "\n",
    "*Ejemplo 1. ¿Si tenemos 5 libros en una pequeña repisa, de cuántas formas podemos organizarlos?*\n",
    "\n",
    "En este caso el orden en que ubicamos los libros importa, de forma que la respuesta es una permutación de n en k, definida como\n",
    "\n",
    "$$_nP_k = \\frac{n!}{(n-k)!}$$\n",
    "\n",
    "en este caso $n = 5$ y $k = 5$. Por tanto la respuesta es $_5P_5 = 5!$ formas."
   ]
  },
  {
   "cell_type": "code",
   "execution_count": 2,
   "metadata": {
    "collapsed": false
   },
   "outputs": [
    {
     "name": "stdout",
     "output_type": "stream",
     "text": [
      "El número de formas es  120.0\n"
     ]
    }
   ],
   "source": [
    "#Calculando la permutacion. Primera forma: Usando la funcion perm the scipy.special\n",
    "N1 = scipy.special.perm(5,5)\n",
    "\n",
    "#Segunda forma: Usando la función factorial de scipy.special\n",
    "N2 = scipy.special.factorial(5)\n",
    "\n",
    "print(\"El número de formas es \", N1)  #aqui podemos reemplazar a N1 por N2, guarda el mismo resultado"
   ]
  },
  {
   "cell_type": "markdown",
   "metadata": {},
   "source": [
    "*Ejemplo 2. En una clase de 20 estudiantes, dos son seleccionados al azar para que respondan a dos preguntas distintas. ¿Cuál es la probabilidad de que a usted y su amigo el vago los escojan y que a usted le toque responder la pregunta más difícil?*\n",
    "\n",
    "Si $N$ es el número de formas en que se asignan las tres preguntas a tres estudiantes, entonces\n",
    "\n",
    "$$N = _{20}P_2$$\n",
    "\n",
    "y la probabilidad por la que nos preguntan es $1/N$."
   ]
  },
  {
   "cell_type": "code",
   "execution_count": 3,
   "metadata": {
    "collapsed": false
   },
   "outputs": [
    {
     "name": "stdout",
     "output_type": "stream",
     "text": [
      "La probabilidad es  0.00263157894737\n"
     ]
    }
   ],
   "source": [
    "#Calculando la permutacion\n",
    "N = scipy.special.perm(20,2)\n",
    "print(\"La probabilidad es \", 1/N)"
   ]
  },
  {
   "cell_type": "markdown",
   "metadata": {},
   "source": [
    "*Ejemplo 3. Un red de datos envia paquetes de 64 bits. ¿Cuántos paquetes tienen exactamente cinco ceros?*\n",
    "\n",
    "Este es un problema de conteo en el que no importa el orden, por tanto la respuesta es una combinación de $n$ en $k$, definida como\n",
    "\n",
    "$$nCk = \\frac{n!}{k!(n-k)!}$$\n",
    "\n",
    "En este ejemplo, $n = 64$ y $k = 5$."
   ]
  },
  {
   "cell_type": "code",
   "execution_count": 4,
   "metadata": {
    "collapsed": false
   },
   "outputs": [
    {
     "name": "stdout",
     "output_type": "stream",
     "text": [
      "Hay 7624512 paquetes de 64 bits con exactamente 5 ceros\n"
     ]
    }
   ],
   "source": [
    "#Calculando la combinación\n",
    "N = scipy.special.comb(64,5)\n",
    "print(\"Hay %d paquetes de 64 bits con exactamente 5 ceros\" % N)"
   ]
  },
  {
   "cell_type": "markdown",
   "metadata": {
    "collapsed": true
   },
   "source": [
    "### Distribuciones de probabilidad\n",
    "\n",
    "Ahora exploremos algunas distribuciones de probabilidad.\n",
    "\n",
    "*Ejemplo 4. Un sistema de comunicaciones envía 10 bits con una probabilidad de error en la detección de cada bit de 0.4. ¿Cuál es la probabilidad de cometer a lo sumo 3 errores?*\n",
    "\n",
    "Definimos $X$ como el número de errores en 10 bits. Esta es una variable aleatoria binomial con parámetros $n = 10$ y $p = 0.4$. Primero grafiquemos la distribución de probabilidad (PMF) de $X$."
   ]
  },
  {
   "cell_type": "code",
   "execution_count": 5,
   "metadata": {
    "collapsed": false
   },
   "outputs": [
    {
     "data": {
      "image/png": "[encoded data removed]",
      "text/plain": [
       "<matplotlib.figure.Figure at 0x7fdcfa7029e8>"
      ]
     },
     "metadata": {},
     "output_type": "display_data"
    }
   ],
   "source": [
    "n = 10; p = 0.4;  #Parametros de la distribución binomial\n",
    "X = scipy.stats.binom(n, p)  #Crea una variable binomial\n",
    "k = np.arange(n+1);   \n",
    "#La variable X es un objeto que tiene varios metodos utiles. Uno de ellos es pmf() que calcula la PMF de X\n",
    "pX = X.pmf(k);    \n",
    "plt.stem(k, pX);  #graficamos la PMF\n",
    "plt.xlabel('$k$', fontsize=14);\n",
    "plt.ylabel('$p_X(k)$', fontsize=14);\n",
    "plt.xlim((-1, 11))\n",
    "plt.title('Distribución de probabilidad de $X$', fontsize=14);"
   ]
  },
  {
   "cell_type": "markdown",
   "metadata": {},
   "source": [
    "Ahora grafiquemos la función de densidad acumulativa de probabilidad (CDF):"
   ]
  },
  {
   "cell_type": "code",
   "execution_count": 6,
   "metadata": {
    "collapsed": false
   },
   "outputs": [
    {
     "data": {
      "image/png": "[encoded data removed]",
      "text/plain": [
       "<matplotlib.figure.Figure at 0x7fdcf8df6a90>"
      ]
     },
     "metadata": {},
     "output_type": "display_data"
    }
   ],
   "source": [
    "FX = X.cdf(k)  #cdf(k) calcula la CDF de X evaluada en k, esto es P(X <= k)\n",
    "plt.step(k, FX);  #graficamos la PMF\n",
    "plt.xlabel('$k$', fontsize=14);\n",
    "plt.ylabel('$F_X(k)$', fontsize=14);\n",
    "plt.xlim((-1, 11))\n",
    "plt.ylim((0, 1.2))\n",
    "plt.xticks(np.arange(11))\n",
    "plt.title('Función de densidad acumulativa de $X$', fontsize=14);"
   ]
  },
  {
   "cell_type": "markdown",
   "metadata": {},
   "source": [
    "La probabilidad del ejemplo es igual $P(X \\leq 3) = F_X(3)$:"
   ]
  },
  {
   "cell_type": "code",
   "execution_count": 7,
   "metadata": {
    "collapsed": false
   },
   "outputs": [
    {
     "data": {
      "text/plain": [
       "0.3822806016000001"
      ]
     },
     "execution_count": 7,
     "metadata": {},
     "output_type": "execute_result"
    }
   ],
   "source": [
    "FX[3]"
   ]
  },
  {
   "cell_type": "markdown",
   "metadata": {},
   "source": [
    "También podemos calcular la media y la varianza de $X$:"
   ]
  },
  {
   "cell_type": "code",
   "execution_count": 8,
   "metadata": {
    "collapsed": false
   },
   "outputs": [
    {
     "name": "stdout",
     "output_type": "stream",
     "text": [
      "La media y varianza de X es 4.00 y 2.40, respectivamente\n"
     ]
    }
   ],
   "source": [
    "#Media\n",
    "EX = X.mean()\n",
    "#Varianza\n",
    "varX = X.var()\n",
    "\n",
    "print(\"La media y varianza de X es %.2f y %.2f, respectivamente\" % (EX, varX))"
   ]
  },
  {
   "cell_type": "markdown",
   "metadata": {
    "collapsed": true
   },
   "source": [
    "Ahora revisamos la distribución normal o Gaussiana.\n",
    "\n",
    "*Ejemplo 5. Sea $X$ una variable Gaussiana con media 2 y varianza 4. Calcule $P(\\lvert X \\rvert \\leq 2)$*\n",
    "\n",
    "Definimos\n",
    "\n",
    "$$Z = \\frac{X - 2}{2}$$\n",
    "\n",
    "$Z$ es una variable aleatoria normal estándar (media cero y varianza unitaria). Tenemos entonces\n",
    "\n",
    "\\begin{align}\n",
    "P(\\lvert X \\rvert \\leq 2) &= P(-2 \\leq X \\leq 2)\\\\\n",
    "&= P(-2 \\leq Z \\leq 0)\\\\\n",
    "&= P(0 \\leq Z \\leq 2)\\\\\n",
    "&= P(Z \\geq 0) - P(Z \\geq 2)\\\\\n",
    "&= Q(0) - Q(2)\n",
    "\\end{align}\n",
    "\n",
    "donde $Q(\\cdot)$ es la función Q."
   ]
  },
  {
   "cell_type": "code",
   "execution_count": 9,
   "metadata": {
    "collapsed": false
   },
   "outputs": [
    {
     "name": "stdout",
     "output_type": "stream",
     "text": [
      "La probilidad es  0.477249868052\n"
     ]
    }
   ],
   "source": [
    "muZ = 0; stdZ = 1;  #parametros de la distribución normal: media y desviación estándar\n",
    "Z = scipy.stats.norm(muZ, stdZ) #creamos la variable normal estándar\n",
    "Q0 = Z.sf(0); #sf(x) es Q(x). También se conoce como función de supervivencia o de fiabilidad.\n",
    "Q2 = Z.sf(2);\n",
    "P = Q0 - Q2;\n",
    "print(\"La probilidad es \", P)"
   ]
  },
  {
   "cell_type": "markdown",
   "metadata": {},
   "source": [
    "Este cálculo puede hacerse directamente con $X$ usando su CDF, $F_X(x)$:\n",
    "\n",
    "\\begin{align}\n",
    "P(\\lvert X \\rvert \\leq 2) &= P(-2 \\leq X \\leq 2)\\\\\n",
    "&= P(X \\leq 2) - P(X \\leq -2)\\\\\n",
    "&= F_X(2) - F_X(-2)\n",
    "\\end{align}"
   ]
  },
  {
   "cell_type": "code",
   "execution_count": 10,
   "metadata": {
    "collapsed": false
   },
   "outputs": [
    {
     "name": "stdout",
     "output_type": "stream",
     "text": [
      "La probilidad es  0.477249868052\n"
     ]
    }
   ],
   "source": [
    "muX = 2; stdX = 2;\n",
    "X = scipy.stats.norm(muX, stdX)\n",
    "FX_m2 = X.cdf(-2); #F_X(-2)\n",
    "FX_2 = X.cdf(2); #F_X(2)\n",
    "P = FX_2 - FX_m2;\n",
    "print(\"La probilidad es \", P)"
   ]
  }
 ],
 "metadata": {
  "kernelspec": {
   "display_name": "Python 3",
   "language": "python",
   "name": "python3"
  },
  "language_info": {
   "codemirror_mode": {
    "name": "ipython",
    "version": 3
   },
   "file_extension": ".py",
   "mimetype": "text/x-python",
   "name": "python",
   "nbconvert_exporter": "python",
   "pygments_lexer": "ipython3",
   "version": "3.5.1"
  }
 },
 "nbformat": 4,
 "nbformat_minor": 0
}
