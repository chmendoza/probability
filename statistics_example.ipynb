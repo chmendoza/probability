{
 "cells": [
  {
   "cell_type": "markdown",
   "metadata": {},
   "source": [
    "# Uso básico de Python en estadística descriptiva\n",
    "\n",
    "En este ejemplo haremos un análisis estadístico básico de un conjunto de datos que contiene especificaciones técnicas para carros nuevos en el 2004 en los Estados Unidos. Los archivos que deben ser descargados y ubicados en la misma carpeta con este notebook son:\n",
    "\n",
    "- Descripción del conjunto de datos: [04cars.txt](http://www.amstat.org/publications/jse/datasets/04cars.txt)\n",
    "- Conjunto de datos: [04cars.dat.txt](http://www.amstat.org/publications/jse/datasets/04cars.dat.txt)"
   ]
  },
  {
   "cell_type": "markdown",
   "metadata": {},
   "source": [
    "### Configuración inicial del notebook\n",
    "\n",
    "Primero nos ubicamos en el directorio de trabajo, donde están todos los archivos de interés."
   ]
  },
  {
   "cell_type": "code",
   "execution_count": 1,
   "metadata": {
    "collapsed": false
   },
   "outputs": [],
   "source": [
    "#Modifique la variable MYPATH a la dirección de la carpeta donde tiene el archivo *.dat.txt\n",
    "MYPATH = \"/home/carlos/Dropbox/Probability/Homeworks/HW1_1/\"\n",
    "%cd -q $MYPATH"
   ]
  },
  {
   "cell_type": "markdown",
   "metadata": {},
   "source": [
    "Luego cargamos todos los modulos necesarios de Python"
   ]
  },
  {
   "cell_type": "code",
   "execution_count": 2,
   "metadata": {
    "collapsed": false
   },
   "outputs": [],
   "source": [
    "#importe la librería de cálculo númerico de Python\n",
    "import numpy as np\n",
    "#Configurar el notebook para graficar en linea. Esta es una magic function!\n",
    "%matplotlib inline\n",
    "#importar la libreria de graficación de Python\n",
    "import matplotlib.pyplot as plt\n",
    "import pandas\n",
    "import scipy.stats as stats"
   ]
  },
  {
   "cell_type": "markdown",
   "metadata": {},
   "source": [
    "### Lectura de los datos a analizar\n",
    "\n",
    "Ahora cargamos el conjunto de datos de las variables de interés"
   ]
  },
  {
   "cell_type": "code",
   "execution_count": 3,
   "metadata": {
    "collapsed": false
   },
   "outputs": [],
   "source": [
    "pfile = open(\"04cars.dat.txt\") #Abrir el archivo que tiene los datos\n",
    "\n",
    "num_of_observations = 428;   #El archivo tiene 428 muestras\n",
    "num_of_cols = 8;             #Las 7 primeras columnas binarias corresponden a la variable cualitativa tipo de\n",
    "                             #carro (Sport, Sport utility, Wagon, Minivan, Pickup, All-Wheel drive o Rear-Wheel \n",
    "                             #drive). La columna 8 corresponde a la variable cuantitativa Precio sugerido (Suggested\n",
    "                             #retail price).\n",
    "data = np.zeros((num_of_observations, num_of_cols));  #Una matrix para guardar los datos\n",
    "i = 0;\n",
    "#Leemos el archivo linea por linea\n",
    "for line in pfile:\n",
    "    columns = line[46:65].split() #tomamos solo las columnas que corresponden a las variables de interes y dividimos\n",
    "                                  #con split() la cadena de caracteres para obtener las 8 columnas de datos\n",
    "    for j in range(num_of_cols):        \n",
    "        data[i][j] = float(columns[j]);   #guardamos las 8 columnas de cada linea del archivo en una fila de la\n",
    "                                          #matriz\n",
    "    i += 1\n",
    "pfile.close()  #cerramos el archivo"
   ]
  },
  {
   "cell_type": "markdown",
   "metadata": {},
   "source": [
    "### Descripción de una variable cualitativa\n",
    "\n",
    "Ahora contruiremos la tabla de distribución de frecuencias para la variable \"Tipo de carro\":"
   ]
  },
  {
   "cell_type": "code",
   "execution_count": 4,
   "metadata": {
    "collapsed": false
   },
   "outputs": [],
   "source": [
    "#Con esta linea es posible imprimir un objeto de datos de Pandas como una tabla en el notebook\n",
    "pandas.set_option('display.notebook_repr_html', True)"
   ]
  },
  {
   "cell_type": "code",
   "execution_count": 5,
   "metadata": {
    "collapsed": false
   },
   "outputs": [],
   "source": [
    "# Las categorias de carros\n",
    "categories = [\"Sports Car\", \"Sport Utility Vehicle\", \"Wagon\", \"Minivan\", \"Pickup\",\n",
    "              \"All-Wheel Drive\", \"Rear-Wheel Drive\", \"Other\"]\n",
    "columns = [\"Frecuencia\", \"Frecuencia relativa\"] #vamos a tabular la frecuencia absoluta y relativa de cada categoria"
   ]
  },
  {
   "cell_type": "code",
   "execution_count": 6,
   "metadata": {
    "collapsed": false
   },
   "outputs": [],
   "source": [
    "#Calculando la frecuencia absoluta\n",
    "frequencies = np.zeros((8,2))\n",
    "frequencies[0:7,0] = np.sum(data[:,0:7], axis=0)  #Por cada columna (categoria), suma todas las filas (muestras)\n",
    "#Hay algunos carros que no están en las primeras 7 categorias. Esto lo contamos con la categoria  \"Other\".\n",
    "frequencies[7,0] = num_of_observations - np.sum(frequencies[0:7,0]); \n",
    "#Calculando la frecuencia relativa\n",
    "frequencies[:, 1] = frequencies[:, 0] / num_of_observations;"
   ]
  },
  {
   "cell_type": "code",
   "execution_count": 7,
   "metadata": {
    "collapsed": false
   },
   "outputs": [
    {
     "data": {
      "text/html": [
       "<div>\n",
       "<table border=\"1\" class=\"dataframe\">\n",
       "  <thead>\n",
       "    <tr style=\"text-align: right;\">\n",
       "      <th></th>\n",
       "      <th>Categoria</th>\n",
       "      <th>Frecuencia</th>\n",
       "      <th>Frecuencia relativa</th>\n",
       "    </tr>\n",
       "  </thead>\n",
       "  <tbody>\n",
       "    <tr>\n",
       "      <th>0</th>\n",
       "      <td>Sports Car</td>\n",
       "      <td>49.0</td>\n",
       "      <td>0.114486</td>\n",
       "    </tr>\n",
       "    <tr>\n",
       "      <th>1</th>\n",
       "      <td>Sport Utility Vehicle</td>\n",
       "      <td>60.0</td>\n",
       "      <td>0.140187</td>\n",
       "    </tr>\n",
       "    <tr>\n",
       "      <th>2</th>\n",
       "      <td>Wagon</td>\n",
       "      <td>30.0</td>\n",
       "      <td>0.070093</td>\n",
       "    </tr>\n",
       "    <tr>\n",
       "      <th>3</th>\n",
       "      <td>Minivan</td>\n",
       "      <td>20.0</td>\n",
       "      <td>0.046729</td>\n",
       "    </tr>\n",
       "    <tr>\n",
       "      <th>4</th>\n",
       "      <td>Pickup</td>\n",
       "      <td>24.0</td>\n",
       "      <td>0.056075</td>\n",
       "    </tr>\n",
       "    <tr>\n",
       "      <th>5</th>\n",
       "      <td>All-Wheel Drive</td>\n",
       "      <td>92.0</td>\n",
       "      <td>0.214953</td>\n",
       "    </tr>\n",
       "    <tr>\n",
       "      <th>6</th>\n",
       "      <td>Rear-Wheel Drive</td>\n",
       "      <td>110.0</td>\n",
       "      <td>0.257009</td>\n",
       "    </tr>\n",
       "    <tr>\n",
       "      <th>7</th>\n",
       "      <td>Other</td>\n",
       "      <td>43.0</td>\n",
       "      <td>0.100467</td>\n",
       "    </tr>\n",
       "  </tbody>\n",
       "</table>\n",
       "</div>"
      ],
      "text/plain": [
       "               Categoria  Frecuencia  Frecuencia relativa\n",
       "0             Sports Car        49.0             0.114486\n",
       "1  Sport Utility Vehicle        60.0             0.140187\n",
       "2                  Wagon        30.0             0.070093\n",
       "3                Minivan        20.0             0.046729\n",
       "4                 Pickup        24.0             0.056075\n",
       "5        All-Wheel Drive        92.0             0.214953\n",
       "6       Rear-Wheel Drive       110.0             0.257009\n",
       "7                  Other        43.0             0.100467"
      ]
     },
     "execution_count": 7,
     "metadata": {},
     "output_type": "execute_result"
    }
   ],
   "source": [
    "df=pandas.DataFrame(frequencies, categories, columns)\n",
    "df.index.name = \"Categoria\"\n",
    "df.reset_index()"
   ]
  },
  {
   "cell_type": "markdown",
   "metadata": {},
   "source": [
    "Gráfica de barras de la variable"
   ]
  },
  {
   "cell_type": "code",
   "execution_count": 8,
   "metadata": {
    "collapsed": false
   },
   "outputs": [
    {
     "data": {
      "image/png": "[encoded data removed]",
      "text/plain": [
       "<matplotlib.figure.Figure at 0x7f242ffbf630>"
      ]
     },
     "metadata": {},
     "output_type": "display_data"
    }
   ],
   "source": [
    "width = 1\n",
    "x = range(8)\n",
    "plt.barh(x, frequencies[:,0], width, color=\"blue\", \n",
    "         tick_label=[\"Sports Car\", \"Sport Utility Vehicle\", \"Wagon\",\n",
    "                     \"Minivan\", \"Pickup\", \"All-Wheel Drive\", \"Rear-Wheel Drive\", \"Other\"], \n",
    "         align=\"center\");"
   ]
  },
  {
   "cell_type": "markdown",
   "metadata": {
    "collapsed": false
   },
   "source": [
    "### Descripción de una variable cuantitativa\n",
    "\n",
    "Ahora vamos a trabajar con la variable cuantitativa \"Precio sugerido (Retail price)\". Primero la tabla de distribución de frecuencias. El [criterio](https://en.wikipedia.org/wiki/Histogram#Number_of_bins_and_width) para determinar el número $k$ de intervalos es la raíz cuadrada del número de muestras $n$:\n",
    "\n",
    "$$k = \\sqrt{n}$$"
   ]
  },
  {
   "cell_type": "code",
   "execution_count": 9,
   "metadata": {
    "collapsed": false
   },
   "outputs": [
    {
     "data": {
      "text/html": [
       "<div>\n",
       "<table border=\"1\" class=\"dataframe\">\n",
       "  <thead>\n",
       "    <tr style=\"text-align: right;\">\n",
       "      <th></th>\n",
       "      <th>Intervalo</th>\n",
       "      <th>Frecuencia</th>\n",
       "      <th>Frecuencia relativa</th>\n",
       "      <th>Frecuencia acumulada</th>\n",
       "      <th>Frecuencia relativa acumulada</th>\n",
       "    </tr>\n",
       "  </thead>\n",
       "  <tbody>\n",
       "    <tr>\n",
       "      <th>0</th>\n",
       "      <td>1028.00 - 1895.52</td>\n",
       "      <td>79.0</td>\n",
       "      <td>0.184579</td>\n",
       "      <td>79.0</td>\n",
       "      <td>0.184579</td>\n",
       "    </tr>\n",
       "    <tr>\n",
       "      <th>1</th>\n",
       "      <td>1895.52 - 2763.05</td>\n",
       "      <td>135.0</td>\n",
       "      <td>0.315421</td>\n",
       "      <td>214.0</td>\n",
       "      <td>0.500000</td>\n",
       "    </tr>\n",
       "    <tr>\n",
       "      <th>2</th>\n",
       "      <td>2763.05 - 3630.57</td>\n",
       "      <td>89.0</td>\n",
       "      <td>0.207944</td>\n",
       "      <td>303.0</td>\n",
       "      <td>0.707944</td>\n",
       "    </tr>\n",
       "    <tr>\n",
       "      <th>3</th>\n",
       "      <td>3630.57 - 4498.10</td>\n",
       "      <td>55.0</td>\n",
       "      <td>0.128505</td>\n",
       "      <td>358.0</td>\n",
       "      <td>0.836449</td>\n",
       "    </tr>\n",
       "    <tr>\n",
       "      <th>4</th>\n",
       "      <td>4498.10 - 5365.62</td>\n",
       "      <td>30.0</td>\n",
       "      <td>0.070093</td>\n",
       "      <td>388.0</td>\n",
       "      <td>0.906542</td>\n",
       "    </tr>\n",
       "    <tr>\n",
       "      <th>5</th>\n",
       "      <td>5365.62 - 6233.14</td>\n",
       "      <td>9.0</td>\n",
       "      <td>0.021028</td>\n",
       "      <td>397.0</td>\n",
       "      <td>0.927570</td>\n",
       "    </tr>\n",
       "    <tr>\n",
       "      <th>6</th>\n",
       "      <td>6233.14 - 7100.67</td>\n",
       "      <td>8.0</td>\n",
       "      <td>0.018692</td>\n",
       "      <td>405.0</td>\n",
       "      <td>0.946262</td>\n",
       "    </tr>\n",
       "    <tr>\n",
       "      <th>7</th>\n",
       "      <td>7100.67 - 7968.19</td>\n",
       "      <td>10.0</td>\n",
       "      <td>0.023364</td>\n",
       "      <td>415.0</td>\n",
       "      <td>0.969626</td>\n",
       "    </tr>\n",
       "    <tr>\n",
       "      <th>8</th>\n",
       "      <td>7968.19 - 8835.71</td>\n",
       "      <td>6.0</td>\n",
       "      <td>0.014019</td>\n",
       "      <td>421.0</td>\n",
       "      <td>0.983645</td>\n",
       "    </tr>\n",
       "    <tr>\n",
       "      <th>9</th>\n",
       "      <td>8835.71 - 9703.24</td>\n",
       "      <td>3.0</td>\n",
       "      <td>0.007009</td>\n",
       "      <td>424.0</td>\n",
       "      <td>0.990654</td>\n",
       "    </tr>\n",
       "    <tr>\n",
       "      <th>10</th>\n",
       "      <td>9703.24 - 10570.76</td>\n",
       "      <td>0.0</td>\n",
       "      <td>0.000000</td>\n",
       "      <td>424.0</td>\n",
       "      <td>0.990654</td>\n",
       "    </tr>\n",
       "    <tr>\n",
       "      <th>11</th>\n",
       "      <td>10570.76 - 11438.29</td>\n",
       "      <td>0.0</td>\n",
       "      <td>0.000000</td>\n",
       "      <td>424.0</td>\n",
       "      <td>0.990654</td>\n",
       "    </tr>\n",
       "    <tr>\n",
       "      <th>12</th>\n",
       "      <td>11438.29 - 12305.81</td>\n",
       "      <td>1.0</td>\n",
       "      <td>0.002336</td>\n",
       "      <td>425.0</td>\n",
       "      <td>0.992991</td>\n",
       "    </tr>\n",
       "    <tr>\n",
       "      <th>13</th>\n",
       "      <td>12305.81 - 13173.33</td>\n",
       "      <td>2.0</td>\n",
       "      <td>0.004673</td>\n",
       "      <td>427.0</td>\n",
       "      <td>0.997664</td>\n",
       "    </tr>\n",
       "    <tr>\n",
       "      <th>14</th>\n",
       "      <td>13173.33 - 14040.86</td>\n",
       "      <td>0.0</td>\n",
       "      <td>0.000000</td>\n",
       "      <td>427.0</td>\n",
       "      <td>0.997664</td>\n",
       "    </tr>\n",
       "    <tr>\n",
       "      <th>15</th>\n",
       "      <td>14040.86 - 14908.38</td>\n",
       "      <td>0.0</td>\n",
       "      <td>0.000000</td>\n",
       "      <td>427.0</td>\n",
       "      <td>0.997664</td>\n",
       "    </tr>\n",
       "    <tr>\n",
       "      <th>16</th>\n",
       "      <td>14908.38 - 15775.90</td>\n",
       "      <td>0.0</td>\n",
       "      <td>0.000000</td>\n",
       "      <td>427.0</td>\n",
       "      <td>0.997664</td>\n",
       "    </tr>\n",
       "    <tr>\n",
       "      <th>17</th>\n",
       "      <td>15775.90 - 16643.43</td>\n",
       "      <td>0.0</td>\n",
       "      <td>0.000000</td>\n",
       "      <td>427.0</td>\n",
       "      <td>0.997664</td>\n",
       "    </tr>\n",
       "    <tr>\n",
       "      <th>18</th>\n",
       "      <td>16643.43 - 17510.95</td>\n",
       "      <td>0.0</td>\n",
       "      <td>0.000000</td>\n",
       "      <td>427.0</td>\n",
       "      <td>0.997664</td>\n",
       "    </tr>\n",
       "    <tr>\n",
       "      <th>19</th>\n",
       "      <td>17510.95 - 18378.48</td>\n",
       "      <td>0.0</td>\n",
       "      <td>0.000000</td>\n",
       "      <td>427.0</td>\n",
       "      <td>0.997664</td>\n",
       "    </tr>\n",
       "    <tr>\n",
       "      <th>20</th>\n",
       "      <td>18378.48 - 19246.00</td>\n",
       "      <td>1.0</td>\n",
       "      <td>0.002336</td>\n",
       "      <td>428.0</td>\n",
       "      <td>1.000000</td>\n",
       "    </tr>\n",
       "  </tbody>\n",
       "</table>\n",
       "</div>"
      ],
      "text/plain": [
       "              Intervalo  Frecuencia  Frecuencia relativa  \\\n",
       "0     1028.00 - 1895.52        79.0             0.184579   \n",
       "1     1895.52 - 2763.05       135.0             0.315421   \n",
       "2     2763.05 - 3630.57        89.0             0.207944   \n",
       "3     3630.57 - 4498.10        55.0             0.128505   \n",
       "4     4498.10 - 5365.62        30.0             0.070093   \n",
       "5     5365.62 - 6233.14         9.0             0.021028   \n",
       "6     6233.14 - 7100.67         8.0             0.018692   \n",
       "7     7100.67 - 7968.19        10.0             0.023364   \n",
       "8     7968.19 - 8835.71         6.0             0.014019   \n",
       "9     8835.71 - 9703.24         3.0             0.007009   \n",
       "10   9703.24 - 10570.76         0.0             0.000000   \n",
       "11  10570.76 - 11438.29         0.0             0.000000   \n",
       "12  11438.29 - 12305.81         1.0             0.002336   \n",
       "13  12305.81 - 13173.33         2.0             0.004673   \n",
       "14  13173.33 - 14040.86         0.0             0.000000   \n",
       "15  14040.86 - 14908.38         0.0             0.000000   \n",
       "16  14908.38 - 15775.90         0.0             0.000000   \n",
       "17  15775.90 - 16643.43         0.0             0.000000   \n",
       "18  16643.43 - 17510.95         0.0             0.000000   \n",
       "19  17510.95 - 18378.48         0.0             0.000000   \n",
       "20  18378.48 - 19246.00         1.0             0.002336   \n",
       "\n",
       "    Frecuencia acumulada  Frecuencia relativa acumulada  \n",
       "0                   79.0                       0.184579  \n",
       "1                  214.0                       0.500000  \n",
       "2                  303.0                       0.707944  \n",
       "3                  358.0                       0.836449  \n",
       "4                  388.0                       0.906542  \n",
       "5                  397.0                       0.927570  \n",
       "6                  405.0                       0.946262  \n",
       "7                  415.0                       0.969626  \n",
       "8                  421.0                       0.983645  \n",
       "9                  424.0                       0.990654  \n",
       "10                 424.0                       0.990654  \n",
       "11                 424.0                       0.990654  \n",
       "12                 425.0                       0.992991  \n",
       "13                 427.0                       0.997664  \n",
       "14                 427.0                       0.997664  \n",
       "15                 427.0                       0.997664  \n",
       "16                 427.0                       0.997664  \n",
       "17                 427.0                       0.997664  \n",
       "18                 427.0                       0.997664  \n",
       "19                 427.0                       0.997664  \n",
       "20                 428.0                       1.000000  "
      ]
     },
     "execution_count": 9,
     "metadata": {},
     "output_type": "execute_result"
    }
   ],
   "source": [
    "nbins = np.sqrt(num_of_observations) #calcula la raiz cuadrada del numero de muestras\n",
    "nbins = int(np.ceil(nbins))  #aproxima al siguiente entero\n",
    "x = data[:,7]; #guarda las muestras de la variable cuantitativa en x\n",
    "\n",
    "#Divide el soporte de la variable en nbins intervalos y guarda la frecuencia absoluta para cada intervalo en hist\n",
    "hist, binedges = np.histogram(x, bins=nbins);  #bindegdes tiene los limites de cada intervalo  \n",
    "\n",
    "frequencies = np.zeros((nbins,4)); \n",
    "frequencies[:, 0] = hist;   #Frecuencia absoluta\n",
    "frequencies[:, 1] = hist / num_of_observations; #Frecuencia relativa \n",
    "frequencies[:, 2] = np.cumsum(hist)  #Frecuencia acumulada\n",
    "frequencies[:, 3] = frequencies[:, 2] / num_of_observations; #Frecuencia relativa acumulada\n",
    "\n",
    "# Limites de los intervalos\n",
    "binnames = [];\n",
    "for i in range(nbins):\n",
    "    label = \"%.2f - %.2f\" % (binedges[i], binedges[i+1]) \n",
    "    binnames.append(label)\n",
    "\n",
    "columns = [\"Frecuencia\", \"Frecuencia relativa\", \"Frecuencia acumulada\", \"Frecuencia relativa acumulada\"];\n",
    "df = pandas.DataFrame(frequencies, binnames, columns)\n",
    "df.index.name = \"Intervalo\"\n",
    "df.reset_index()"
   ]
  },
  {
   "cell_type": "markdown",
   "metadata": {},
   "source": [
    "Histograma:"
   ]
  },
  {
   "cell_type": "code",
   "execution_count": 10,
   "metadata": {
    "collapsed": false,
    "scrolled": false
   },
   "outputs": [
    {
     "data": {
      "image/png": "[encoded data removed]",
      "text/plain": [
       "<matplotlib.figure.Figure at 0x7f242137d0f0>"
      ]
     },
     "metadata": {},
     "output_type": "display_data"
    }
   ],
   "source": [
    "plt.figure(figsize=(10,10))  #Aumenta el tamaño de la figura\n",
    "plt.hist(x, nbins);  #Grafica el histograma\n",
    "plt.xticks(range(0,20000,2500));  #Modifica las marcas en el eje x"
   ]
  },
  {
   "cell_type": "markdown",
   "metadata": {
    "collapsed": false
   },
   "source": [
    "### Resumen de la variable cuantitativa\n",
    "\n",
    "A continuación calculamos medidas de tendencia central y de dispersión."
   ]
  },
  {
   "cell_type": "code",
   "execution_count": 11,
   "metadata": {
    "collapsed": false
   },
   "outputs": [
    {
     "data": {
      "text/plain": [
       "3277.1962616822429"
      ]
     },
     "execution_count": 11,
     "metadata": {},
     "output_type": "execute_result"
    }
   ],
   "source": [
    "#Media\n",
    "np.mean(x)"
   ]
  },
  {
   "cell_type": "code",
   "execution_count": 12,
   "metadata": {
    "collapsed": false
   },
   "outputs": [
    {
     "data": {
      "text/plain": [
       "2763.5"
      ]
     },
     "execution_count": 12,
     "metadata": {},
     "output_type": "execute_result"
    }
   ],
   "source": [
    "#Mediana\n",
    "np.median(x)"
   ]
  },
  {
   "cell_type": "code",
   "execution_count": 13,
   "metadata": {
    "collapsed": false
   },
   "outputs": [
    {
     "name": "stdout",
     "output_type": "stream",
     "text": [
      "La moda es 1327.00 y se repite 2 veces\n"
     ]
    }
   ],
   "source": [
    "#Moda\n",
    "mode, count = stats.mode(x)\n",
    "print(\"La moda es %.2f y se repite %d veces\" % (mode, count))"
   ]
  },
  {
   "cell_type": "code",
   "execution_count": 14,
   "metadata": {
    "collapsed": false
   },
   "outputs": [
    {
     "name": "stdout",
     "output_type": "stream",
     "text": [
      "El rango intercuartil es  1887.25\n"
     ]
    }
   ],
   "source": [
    "#Rango interquartil\n",
    "Q3 = np.percentile(x, 75) #Tercer cuartil\n",
    "Q1 = np.percentile(x, 25) #Primer cuartil\n",
    "IQR = Q3 - Q1;\n",
    "print(\"El rango intercuartil es \", IQR)"
   ]
  },
  {
   "cell_type": "markdown",
   "metadata": {},
   "source": [
    "Dos posibles formas de calcular la varianza muestral de $N$ datos con media muestral $\\bar{x}$:\n",
    "\n",
    "\\begin{equation}\n",
    "s_N = \\frac{1}{N} \\sum\\limits_i (x_i - \\bar{x})^2\n",
    "\\tag{1}\n",
    "\\end{equation}\n",
    "\n",
    "\\begin{equation}\n",
    "s_{N-1} = \\frac{1}{N-1} \\sum\\limits_i (x_i - \\bar{x})^2\n",
    "\\tag{2}\n",
    "\\end{equation}\n",
    "\n",
    "En la función var() de numpy, ddof es 0 ó 1 cuando calculamos $s_{N}$ o $s_{N-1}$. Por defecto, ddof=0. "
   ]
  },
  {
   "cell_type": "code",
   "execution_count": 15,
   "metadata": {
    "collapsed": false
   },
   "outputs": [
    {
     "name": "stdout",
     "output_type": "stream",
     "text": [
      "La varianza muestral es  3775970.00823\n"
     ]
    }
   ],
   "source": [
    "#Varianza\n",
    "var = np.var(x, ddof=1)\n",
    "print(\"La varianza muestral es \", var)"
   ]
  },
  {
   "cell_type": "code",
   "execution_count": 16,
   "metadata": {
    "collapsed": false
   },
   "outputs": [
    {
     "name": "stdout",
     "output_type": "stream",
     "text": [
      "La desviación estándar es  1943.18553109\n"
     ]
    }
   ],
   "source": [
    "#Desviación estándar\n",
    "std = np.sqrt(var)\n",
    "print(\"La desviación estándar es \", std)"
   ]
  }
 ],
 "metadata": {
  "kernelspec": {
   "display_name": "Python 3",
   "language": "python",
   "name": "python3"
  },
  "language_info": {
   "codemirror_mode": {
    "name": "ipython",
    "version": 3
   },
   "file_extension": ".py",
   "mimetype": "text/x-python",
   "name": "python",
   "nbconvert_exporter": "python",
   "pygments_lexer": "ipython3",
   "version": "3.5.1"
  }
 },
 "nbformat": 4,
 "nbformat_minor": 0
}
